{
 "cells": [
  {
   "cell_type": "markdown",
   "metadata": {},
   "source": [
    "# Mean, Median, Mode, and introducing NumPy"
   ]
  },
  {
   "cell_type": "markdown",
   "metadata": {},
   "source": [
    "## Mean vs. Median"
   ]
  },
  {
   "cell_type": "markdown",
   "metadata": {},
   "source": [
    "Let's create some fake income data, centered around 27,000 with a normal distribution and standard deviation of 15,000, with 10,000 data points. (We'll discuss those terms more later, if you're not familiar with them.)\n",
    "\n",
    "Then, compute the mean (average) - it should be close to 27,000:"
   ]
  },
  {
   "cell_type": "code",
   "execution_count": 1,
   "metadata": {},
   "outputs": [
    {
     "data": {
      "text/plain": [
       "27121.830533881057"
      ]
     },
     "execution_count": 1,
     "metadata": {},
     "output_type": "execute_result"
    }
   ],
   "source": [
    "import numpy as np\n",
    "\n",
    "incomes = np.random.normal(27000, 15000, 10000)\n",
    "np.mean(incomes)"
   ]
  },
  {
   "cell_type": "markdown",
   "metadata": {},
   "source": [
    "We can segment the income data into 50 buckets, and plot it as a histogram:"
   ]
  },
  {
   "cell_type": "code",
   "execution_count": 2,
   "metadata": {},
   "outputs": [
    {
     "data": {
      "image/png": "[encoded data removed]",
      "text/plain": [
       "<Figure size 640x480 with 1 Axes>"
      ]
     },
     "metadata": {},
     "output_type": "display_data"
    }
   ],
   "source": [
    "%matplotlib inline\n",
    "import matplotlib.pyplot as plt\n",
    "plt.hist(incomes, 50)\n",
    "plt.show()"
   ]
  },
  {
   "cell_type": "markdown",
   "metadata": {},
   "source": [
    "Now compute the median - since we have a nice, even distribution it too should be close to 27,000:"
   ]
  },
  {
   "cell_type": "code",
   "execution_count": 3,
   "metadata": {},
   "outputs": [
    {
     "data": {
      "text/plain": [
       "27182.10495955451"
      ]
     },
     "execution_count": 3,
     "metadata": {},
     "output_type": "execute_result"
    }
   ],
   "source": [
    "np.median(incomes)"
   ]
  },
  {
   "cell_type": "markdown",
   "metadata": {},
   "source": [
    "Now we'll add Jeff Bezos into the mix. Darn income inequality!"
   ]
  },
  {
   "cell_type": "code",
   "execution_count": 4,
   "metadata": {},
   "outputs": [],
   "source": [
    "incomes = np.append(incomes, [1000000000])"
   ]
  },
  {
   "cell_type": "markdown",
   "metadata": {},
   "source": [
    "The median won't change much, but the mean does:"
   ]
  },
  {
   "cell_type": "code",
   "execution_count": 5,
   "metadata": {},
   "outputs": [
    {
     "data": {
      "text/plain": [
       "27184.08084674555"
      ]
     },
     "execution_count": 5,
     "metadata": {},
     "output_type": "execute_result"
    }
   ],
   "source": [
    "np.median(incomes)"
   ]
  },
  {
   "cell_type": "code",
   "execution_count": 6,
   "metadata": {},
   "outputs": [
    {
     "data": {
      "text/plain": [
       "127109.11962191886"
      ]
     },
     "execution_count": 6,
     "metadata": {},
     "output_type": "execute_result"
    }
   ],
   "source": [
    "np.mean(incomes)"
   ]
  },
  {
   "cell_type": "markdown",
   "metadata": {},
   "source": [
    "## Mode"
   ]
  },
  {
   "cell_type": "markdown",
   "metadata": {},
   "source": [
    "Next, let's generate some fake age data for 500 people:"
   ]
  },
  {
   "cell_type": "code",
   "execution_count": 7,
   "metadata": {},
   "outputs": [
    {
     "data": {
      "text/plain": [
       "array([67, 66, 84, 34, 72, 85, 57, 85, 82, 62, 65, 58, 66, 72, 82, 42, 67,\n",
       "       54, 22, 42, 53, 76, 36, 76, 40, 86, 87, 45, 37, 68, 21, 87, 48, 23,\n",
       "       20, 50, 46, 48, 81, 76, 33, 70, 66, 54, 77, 87, 36, 60, 20, 76, 59,\n",
       "       43, 83, 60, 79, 41, 59, 68, 55, 55, 41, 69, 39, 40, 42, 52, 79, 18,\n",
       "       57, 87, 48, 76, 77, 66, 81, 81, 33, 39, 55, 77, 77, 62, 41, 23, 86,\n",
       "       49, 19, 47, 81, 43, 77, 46, 40, 67, 60, 22, 26, 35, 85, 33, 30, 24,\n",
       "       86, 19, 24, 63, 54, 74, 27, 22, 29, 54, 60, 33, 83, 45, 79, 32, 26,\n",
       "       84, 38, 64, 52, 47, 39, 45, 50, 66, 44, 68, 62, 39, 55, 89, 72, 84,\n",
       "       51, 85, 66, 27, 35, 22, 87, 73, 39, 87, 35, 84, 48, 79, 40, 68, 81,\n",
       "       80, 47, 34, 42, 80, 21, 28, 35, 45, 40, 25, 60, 84, 65, 75, 56, 36,\n",
       "       27, 49, 22, 41, 89, 48, 24, 84, 28, 28, 28, 19, 48, 18, 81, 89, 64,\n",
       "       29, 32, 21, 33, 74, 43, 40, 72, 51, 56, 87, 81, 85, 87, 33, 65, 84,\n",
       "       45, 45, 62, 49, 67, 40, 76, 58, 65, 32, 31, 47, 53, 40, 23, 47, 81,\n",
       "       32, 37, 70, 46, 80, 22, 29, 42, 77, 73, 34, 76, 84, 67, 73, 61, 53,\n",
       "       73, 55, 37, 73, 74, 61, 52, 31, 28, 73, 69, 26, 25, 43, 47, 49, 89,\n",
       "       19, 36, 52, 85, 89, 36, 64, 64, 84, 50, 30, 51, 71, 23, 53, 46, 68,\n",
       "       18, 35, 35, 20, 85, 88, 68, 62, 41, 77, 19, 86, 38, 29, 86, 88, 61,\n",
       "       54, 47, 49, 59, 75, 37, 77, 69, 27, 47, 27, 83, 64, 70, 80, 78, 27,\n",
       "       48, 71, 35, 69, 35, 18, 46, 58, 30, 58, 67, 63, 80, 54, 66, 19, 74,\n",
       "       79, 62, 21, 36, 62, 34, 48, 52, 42, 79, 84, 68, 75, 62, 54, 87, 45,\n",
       "       58, 69, 41, 65, 78, 82, 83, 84, 87, 20, 42, 23, 77, 64, 18, 36, 73,\n",
       "       59, 34, 75, 87, 75, 29, 66, 67, 41, 56, 37, 43, 25, 85, 26, 62, 49,\n",
       "       86, 28, 30, 35, 55, 54, 74, 35, 37, 78, 88, 41, 61, 75, 30, 32, 32,\n",
       "       89, 68, 51, 22, 50, 86, 25, 65, 29, 67, 30, 51, 21, 53, 63, 89, 50,\n",
       "       78, 36, 54, 21, 63, 58, 35, 30, 38, 78, 79, 86, 72, 19, 22, 57, 40,\n",
       "       32, 18, 62, 36, 76, 66, 76, 35, 83, 27, 60, 24, 22, 37, 34, 60, 80,\n",
       "       83, 35, 34, 21, 32, 33, 73, 22, 18, 60, 67, 22, 82, 37, 26, 78, 37,\n",
       "       35, 24, 84, 75, 34, 42, 81, 42, 50, 82, 83, 35, 32, 88, 52, 59, 66,\n",
       "       48, 82, 27, 58, 32, 35, 71, 45, 50, 48, 76, 82, 76, 69, 44, 20, 25,\n",
       "       49, 58, 37, 63, 62, 59, 69])"
      ]
     },
     "execution_count": 7,
     "metadata": {},
     "output_type": "execute_result"
    }
   ],
   "source": [
    "ages = np.random.randint(18, high=90, size=500)\n",
    "ages"
   ]
  },
  {
   "cell_type": "code",
   "execution_count": 8,
   "metadata": {},
   "outputs": [
    {
     "data": {
      "text/plain": [
       "ModeResult(mode=35, count=16)"
      ]
     },
     "execution_count": 8,
     "metadata": {},
     "output_type": "execute_result"
    }
   ],
   "source": [
    "from scipy import stats\n",
    "stats.mode(ages)"
   ]
  },
  {
   "cell_type": "code",
   "execution_count": null,
   "metadata": {},
   "outputs": [],
   "source": []
  }
 ],
 "metadata": {
  "kernelspec": {
   "display_name": "Python 3",
   "language": "python",
   "name": "python3"
  },
  "language_info": {
   "codemirror_mode": {
    "name": "ipython",
    "version": 3
   },
   "file_extension": ".py",
   "mimetype": "text/x-python",
   "name": "python",
   "nbconvert_exporter": "python",
   "pygments_lexer": "ipython3",
   "version": "3.11.5"
  }
 },
 "nbformat": 4,
 "nbformat_minor": 1
}
